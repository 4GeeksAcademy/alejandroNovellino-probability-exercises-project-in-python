{
 "cells": [
  {
   "cell_type": "markdown",
   "id": "a41f3622",
   "metadata": {},
   "source": [
    "# Probability exercises"
   ]
  },
  {
   "cell_type": "markdown",
   "id": "a6bdbd89",
   "metadata": {},
   "source": [
    "## Exercise 1 \n",
    "\n",
    "Two dices are thrown once and the total score is observed. Use a simulation to find the estimated probability that the total score is even or greater than 7.  A simulation is a repetition of the same experiment multiple times to observe its behavior:\n",
    "\n",
    "- Run the experiment 1000 times (roll 2 dice 1000 times, and sum the number of both dices).\n",
    "- Keep track of the number of times that the sum was either greater than 7 or an even number.\n",
    "- Divide the number from step 2 by the number of iterations (1000)."
   ]
  },
  {
   "cell_type": "code",
   "execution_count": 9,
   "id": "8939d892",
   "metadata": {},
   "outputs": [
    {
     "name": "stdout",
     "output_type": "stream",
     "text": [
      "The number of times a sum is greater than 7 or a even number is: 634\n",
      "\n",
      "Probability the sum of the dices is greater than 7 or a even number is: 0.634\n"
     ]
    }
   ],
   "source": [
    "\n",
    "# libraries to use\n",
    "import numpy as np\n",
    "import numpy.typing as npt\n",
    "from numpy.random import Generator\n",
    "\n",
    "# define the size of the experiment\n",
    "size = 1000\n",
    "\n",
    "# create a random number generator\n",
    "rng: Generator = np.random.default_rng(seed=42)\n",
    "\n",
    "# throw all the first dices\n",
    "dices_1: npt.NDArray[np.int64] = rng.integers(low=1, high=7, size=size)\n",
    "\n",
    "# throw all the second dices\n",
    "dices_2: npt.NDArray[np.int64] = rng.integers(low=1, high=7, size=size)\n",
    "\n",
    "# sum the dices\n",
    "sum_dices: npt.NDArray[np.int64] = dices_1 + dices_2\n",
    "\n",
    "# count the number of times a sum is greater than 7 or a even number\n",
    "count: int = np.sum((sum_dices > 7) | (sum_dices % 2 == 0))\n",
    "\n",
    "# print the result\n",
    "print(f\"The number of times a sum is greater than 7 or a even number is: {count}\")\n",
    "print(f\"\\nProbability the sum of the dices is greater than 7 or a even number is: {count / size}\")"
   ]
  },
  {
   "cell_type": "markdown",
   "id": "55732bca",
   "metadata": {},
   "source": [
    "## Exercise 2\n",
    "\n",
    "A box contains 10 white balls, 20 red balls and 30 green balls. If we take 5 balls from the box with replacement (we take the ball, observe what color it is and put it back into the box). We want to know the probability of:\n",
    "\n",
    "1. Take 3 white and 2 red.\n",
    "2. Take all of the same color.\n",
    "\n",
    "Run the experiment 1000 times and calculate the above probabilities."
   ]
  },
  {
   "cell_type": "code",
   "execution_count": 10,
   "id": "23244d20",
   "metadata": {},
   "outputs": [
    {
     "name": "stdout",
     "output_type": "stream",
     "text": [
      "{0: 'White', 1: 'White', 2: 'White', 3: 'White', 4: 'White', 5: 'White', 6: 'White', 7: 'White', 8: 'White', 9: 'White', 10: 'Red', 11: 'Red', 12: 'Red', 13: 'Red', 14: 'Red', 15: 'Red', 16: 'Red', 17: 'Red', 18: 'Red', 19: 'Red', 20: 'Red', 21: 'Red', 22: 'Red', 23: 'Red', 24: 'Red', 25: 'Red', 26: 'Red', 27: 'Red', 28: 'Red', 29: 'Red', 30: 'Green', 31: 'Green', 32: 'Green', 33: 'Green', 34: 'Green', 35: 'Green', 36: 'Green', 37: 'Green', 38: 'Green', 39: 'Green', 40: 'Green', 41: 'Green', 42: 'Green', 43: 'Green', 44: 'Green', 45: 'Green', 46: 'Green', 47: 'Green', 48: 'Green', 49: 'Green', 50: 'Green', 51: 'Green', 52: 'Green', 53: 'Green', 54: 'Green', 55: 'Green', 56: 'Green', 57: 'Green', 58: 'Green', 59: 'Green'}\n"
     ]
    }
   ],
   "source": [
    "ball_box = {}\n",
    "\n",
    "# Create the box of balls\n",
    "for i in range(60):\n",
    "    if i < 10:\n",
    "        ball_box[i] = \"White\"\n",
    "    elif (i > 9) and (i < 30):\n",
    "        ball_box[i] = \"Red\"\n",
    "    else:\n",
    "        ball_box[i] = \"Green\"\n",
    "\n",
    "print(ball_box)"
   ]
  },
  {
   "cell_type": "code",
   "execution_count": 11,
   "id": "fe3245ef",
   "metadata": {},
   "outputs": [],
   "source": [
    "# libraries to use\n",
    "from collections import Counter\n",
    "\n",
    "\n",
    "def get_ball_from_box(box: dict) -> str:\n",
    "\t\"\"\"\n",
    "\tThis function return a random ball from the box\n",
    "\n",
    "\tArgs:\n",
    "\t\tbox: A dictionary with the balls, the key is the number of the ball and the value the color\n",
    "\n",
    "\tReturns:\n",
    "\t\tThe ball got from the box\n",
    "\t\"\"\"\n",
    "\n",
    "\ttotal_amount_balls: int = len(box)\n",
    "\n",
    "\t# get a random ball from the box\n",
    "\tball: int = rng.integers(low=0, high=total_amount_balls)\n",
    "\n",
    "\t# return the ball\n",
    "\treturn box[ball]\n",
    "\n",
    "\n",
    "def get_n_balls(box: dict, n: int) -> 'list[str]':\n",
    "\t\"\"\"\n",
    "\tThis function return a random ball from the box\n",
    "\n",
    "\tArgs:\n",
    "\t\tbox: A dictionary with the balls, the key is the number of the ball and the value the color\n",
    "\t\tn: The numbers of balls to get from the box\n",
    "\n",
    "\tReturns:\n",
    "\t\tThe list of balls got from the box\n",
    "\t\"\"\"\n",
    "\n",
    "\t# get n amount of random balls from the box\n",
    "\tballs: 'list[str]' = [ get_ball_from_box(box=box) for _ in range(n) ]\n",
    "\n",
    "\t# return the list\n",
    "\treturn balls\n",
    "\n",
    "\n",
    "def experiment(box: dict, n: int) -> None:\n",
    "\t\"\"\"\n",
    "\tExperiment to see the probability of getting the following:\n",
    "\n",
    "\t1. Take 3 white and 2 red.\n",
    "\t2. Take all of the same color.\n",
    "\n",
    "\tArgs:\n",
    "\t\tbox: A dictionary with the balls, the key is the number of the ball and the value the color\n",
    "\t\tn: The numbers of experiments\n",
    "\n",
    "\tReturns:\n",
    "\t\tNone\n",
    "\t\"\"\"\n",
    "\n",
    "\t# counters\n",
    "\tprob_3_white_2_red: int = 0\n",
    "\tprob_all_same_color: int = 0\n",
    "\t\n",
    "\t# experiment n amount of times\n",
    "\tfor _ in range(n):\n",
    "\t\t# get 5 balls from the box\n",
    "\t\tballs: 'list[str]' = get_n_balls(box=box, n=5)\n",
    "\n",
    "\t\t# count the number of balls of each color\n",
    "\t\tcount_balls: Counter = Counter(balls)\n",
    "\n",
    "\t\t# check if 3 whites and 2 red\n",
    "\t\tif count_balls[\"White\"] == 3 and count_balls[\"Red\"] == 2:\n",
    "\t\t\tprob_3_white_2_red += 1\n",
    "\t\t\n",
    "\t\t# check if all the same color\n",
    "\t\tif (count_balls[\"White\"] == 5) or (count_balls[\"Red\"] == 5) or (count_balls[\"Green\"] == 5):\n",
    "\t\t\tprob_all_same_color += 1\n",
    "\n",
    "\t# print the probabilities\n",
    "\tprint(f\"Probability of getting 3 white and 2 red: {prob_3_white_2_red / n}\")\n",
    "\tprint(f\"Probability of getting all the same color: {prob_all_same_color / n}\")\n"
   ]
  },
  {
   "cell_type": "code",
   "execution_count": 12,
   "id": "5d7cc9d1",
   "metadata": {},
   "outputs": [
    {
     "name": "stdout",
     "output_type": "stream",
     "text": [
      "Probability of getting 3 white and 2 red: 0.006\n",
      "Probability of getting all the same color: 0.031\n"
     ]
    }
   ],
   "source": [
    "# call the experiment\n",
    "experiment(box=ball_box, n=1000)"
   ]
  }
 ],
 "metadata": {
  "kernelspec": {
   "display_name": "ds_venv",
   "language": "python",
   "name": "python3"
  },
  "language_info": {
   "codemirror_mode": {
    "name": "ipython",
    "version": 3
   },
   "file_extension": ".py",
   "mimetype": "text/x-python",
   "name": "python",
   "nbconvert_exporter": "python",
   "pygments_lexer": "ipython3",
   "version": "3.12.9"
  }
 },
 "nbformat": 4,
 "nbformat_minor": 5
}
